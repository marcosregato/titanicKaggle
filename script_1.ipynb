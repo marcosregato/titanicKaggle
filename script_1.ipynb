{
 "metadata": {
  "language_info": {
   "codemirror_mode": {
    "name": "ipython",
    "version": 3
   },
   "file_extension": ".py",
   "mimetype": "text/x-python",
   "name": "python",
   "nbconvert_exporter": "python",
   "pygments_lexer": "ipython3",
   "version": "3.8.10"
  },
  "orig_nbformat": 4,
  "kernelspec": {
   "name": "python3",
   "display_name": "Python 3.8.10 64-bit"
  },
  "interpreter": {
   "hash": "31f2aee4e71d21fbe5cf8b01ff0e069b9275f58929596ceb00d14d90e3e16cd6"
  }
 },
 "nbformat": 4,
 "nbformat_minor": 2,
 "cells": [
  {
   "cell_type": "code",
   "execution_count": 1,
   "metadata": {},
   "outputs": [],
   "source": [
    "import pandas as pd\n",
    "from sklearn.ensemble import RandomForestClassifier"
   ]
  },
  {
   "source": [
    "# sibsp Número de irmãos / cônjuges a bordo\n",
    "# Parch Número de pais / filhos a bordo \n",
    "# Embarked = Porto de embarque (C = Cherbourg; Q = Queenstown; S = Southampton) "
   ],
   "cell_type": "code",
   "metadata": {},
   "execution_count": 2,
   "outputs": []
  },
  {
   "cell_type": "code",
   "execution_count": 3,
   "metadata": {},
   "outputs": [],
   "source": [
    "db_titanic_train = pd.read_csv('../database/train.csv',sep= ',')\n",
    "db_titanic_test = pd.read_csv('../database/test.csv',sep=',')\n",
    "#db_titanic_train.head()"
   ]
  },
  {
   "cell_type": "code",
   "execution_count": 4,
   "metadata": {},
   "outputs": [],
   "source": [
    "#print(db_titanic_train.count())"
   ]
  },
  {
   "cell_type": "code",
   "execution_count": 7,
   "metadata": {},
   "outputs": [],
   "source": [
    "inf_female = db_titanic_train.loc[db_titanic_train.Sex == 'female'].count()\n",
    "#inf_female"
   ]
  },
  {
   "cell_type": "code",
   "execution_count": 336,
   "metadata": {},
   "outputs": [],
   "source": [
    "inf_male = db_titanic_train.loc[db_titanic.Sex == 'male'].count()\n",
    "#inf_male"
   ]
  },
  {
   "cell_type": "code",
   "execution_count": 337,
   "metadata": {},
   "outputs": [
    {
     "output_type": "stream",
     "name": "stdout",
     "text": [
      "Embarked more men 577 than women 312\n"
     ]
    }
   ],
   "source": [
    "print('Embarked more men {} than women {}'.format(inf_male['Embarked'],inf_female['Embarked']))"
   ]
  },
  {
   "cell_type": "code",
   "execution_count": 338,
   "metadata": {},
   "outputs": [
    {
     "output_type": "stream",
     "name": "stdout",
     "text": [
      "We have some kind of family relationship \n Sex      57\nSibSp    57\nParch    57\ndtype: int64\n"
     ]
    }
   ],
   "source": [
    "family_relationship = db_titanic_train.loc[\n",
    "                                    (db_titanic.SibSp == 1) & (db_titanic.Parch  == 1), \n",
    "                                    ['Sex','SibSp','Parch']].count()\n",
    "print('We have some kind of family relationship \\n',family_relationship)"
   ]
  },
  {
   "cell_type": "code",
   "execution_count": 339,
   "metadata": {},
   "outputs": [
    {
     "output_type": "stream",
     "name": "stdout",
     "text": [
      "Total women under 15 years old Sex    43\ndtype: int64\n"
     ]
    }
   ],
   "source": [
    "age_female = db_titanic_train.loc[\n",
    "                            (db_titanic_train.Sex == 'female') & (db_titanic_train.Age <= 15),\n",
    "                            ['Sex']].count()\n",
    "print('Total women under 15 years old {}'.format(age_female))"
   ]
  },
  {
   "cell_type": "code",
   "execution_count": 340,
   "metadata": {},
   "outputs": [
    {
     "output_type": "stream",
     "name": "stdout",
     "text": [
      "Total men under 15 years old Sex    40\ndtype: int64\n"
     ]
    }
   ],
   "source": [
    "age_male = db_titanic_train.loc[\n",
    "                        (db_titanic_train.Sex == 'male') & (db_titanic_train.Age <= 15),\n",
    "                        ['Sex']].count()\n",
    "print('Total men under 15 years old {}'.format(age_male))"
   ]
  },
  {
   "cell_type": "code",
   "execution_count": 341,
   "metadata": {},
   "outputs": [
    {
     "output_type": "stream",
     "name": "stdout",
     "text": [
      "We have a number of 177 people we dont know their age \n"
     ]
    }
   ],
   "source": [
    "unknown_age = db_titanic_train['Sex'].count() - db_titanic_train['Age'].count()\n",
    "print('We have a number of {} people we dont know their age '.format(unknown_age))"
   ]
  },
  {
   "cell_type": "code",
   "execution_count": 342,
   "metadata": {},
   "outputs": [],
   "source": [
    "\"\"\"\n",
    "change the Nan value to 0 \n",
    "\"\"\"\n",
    "db_titanic_train['Cabin'] = db_titanic_train['Cabin'].fillna(0)\n",
    "db_titanic_train['Age'] = db_titanic_train['Age'].fillna(0) \n",
    "db_titanic_train['Embarked'] = db_titanic_train['Embarked'].fillna(0) \n",
    "\n",
    "db_titanic_test['Cabin'] = db_titanic_test['Cabin'].fillna(0)\n",
    "db_titanic_test['Age'] = db_titanic_test['Age'].fillna(0) \n",
    "db_titanic_test['Embarked'] = db_titanic_test['Embarked'].fillna(0) \n",
    "\n",
    "\n",
    "#db_titanic_train.head()"
   ]
  },
  {
   "cell_type": "code",
   "execution_count": 343,
   "metadata": {},
   "outputs": [
    {
     "output_type": "stream",
     "name": "stdout",
     "text": [
      "survived => 549 | dead => 342\n"
     ]
    }
   ],
   "source": [
    "sex = db_titanic_train['Sex'].count()\n",
    "\n",
    "col_survived = db_titanic_train.loc[db_titanic_train['Survived'] == 1]\n",
    "col_dead = db_titanic_train.loc[db_titanic_train['Survived'] == 0]\n",
    "\n",
    "result_survived = sex - col_survived.loc[:,'Survived'].count()\n",
    "result_dead = sex - col_dead.loc[:,'Survived'].count()\n",
    "\n",
    "print('survived => {} | dead => {}'.format(result_survived,result_dead))\n"
   ]
  },
  {
   "cell_type": "code",
   "execution_count": 344,
   "metadata": {},
   "outputs": [],
   "source": [
    "nova_dataframe = db_titanic_train[['Name','Sex','Age']]\n",
    "\n",
    "dfemale_31_40 = db_titanic_train.loc[(\n",
    "        db_titanic_train.Sex == 'female') & (\n",
    "        db_titanic_train.Age >= 31) & \n",
    "        (db_titanic_train.Age <= 40)]\n",
    "#dfemale_31_40\n"
   ]
  },
  {
   "cell_type": "code",
   "execution_count": 345,
   "metadata": {},
   "outputs": [],
   "source": [
    "dfemale_41_50 = db_titanic_train.loc[(\n",
    "        db_titanic_train.Sex == 'female') & (\n",
    "        db_titanic_train.Age >= 41) & \n",
    "        (db_titanic_train.Age <= 50)]\n",
    "#dfemale_41_50\n",
    "\n",
    "dfemale_51_60 = db_titanic_train.loc[(\n",
    "        db_titanic_train.Sex == 'female') & (\n",
    "        db_titanic_train.Age >= 51) & \n",
    "        (db_titanic_train.Age <= 60)]\n",
    "#dfemale_51_60\n",
    "\n",
    "dfemale_61_70 = db_titanic_train.loc[(\n",
    "        db_titanic_train.Sex == 'female') & (\n",
    "        db_titanic_train.Age >= 61) & \n",
    "        (db_titanic_train.Age <= 70)]\n",
    "#dfemale_61_70\n"
   ]
  },
  {
   "cell_type": "code",
   "execution_count": 346,
   "metadata": {},
   "outputs": [
    {
     "output_type": "stream",
     "name": "stdout",
     "text": [
      "Base Train => we have 891 rating people who are not classified as Mrs, Miss and Mr\n",
      "<ipython-input-346-327adc6d0ae5>:43: SettingWithCopyWarning: \n",
      "A value is trying to be set on a copy of a slice from a DataFrame\n",
      "\n",
      "See the caveats in the documentation: http://pandas.pydata.org/pandas-docs/stable/user_guide/indexing.html#returning-a-view-versus-a-copy\n",
      "  db_titanic_train.Sex[db_titanic_train.Sex == 'male'] = 1\n",
      "<ipython-input-346-327adc6d0ae5>:44: SettingWithCopyWarning: \n",
      "A value is trying to be set on a copy of a slice from a DataFrame\n",
      "\n",
      "See the caveats in the documentation: http://pandas.pydata.org/pandas-docs/stable/user_guide/indexing.html#returning-a-view-versus-a-copy\n",
      "  db_titanic_train.Sex[db_titanic_train.Sex == 'female'] = 2\n"
     ]
    },
    {
     "output_type": "execute_result",
     "data": {
      "text/plain": [
       "     PassengerId  Survived  Pclass  \\\n",
       "0              1         0       3   \n",
       "1              2         1       1   \n",
       "2              3         1       3   \n",
       "3              4         1       1   \n",
       "4              5         0       3   \n",
       "..           ...       ...     ...   \n",
       "886          887         0       2   \n",
       "887          888         1       1   \n",
       "888          889         0       3   \n",
       "889          890         1       1   \n",
       "890          891         0       3   \n",
       "\n",
       "                                                  Name  classe Sex  Age  \\\n",
       "0                              Braund, Mr. Owen Harris     NaN   1   22   \n",
       "1    Cumings, Mrs. John Bradley (Florence Briggs Th...     NaN   2   38   \n",
       "2                               Heikkinen, Miss. Laina     NaN   2   26   \n",
       "3         Futrelle, Mrs. Jacques Heath (Lily May Peel)     NaN   2   35   \n",
       "4                             Allen, Mr. William Henry     NaN   1   35   \n",
       "..                                                 ...     ...  ..  ...   \n",
       "886                              Montvila, Rev. Juozas     NaN   1   27   \n",
       "887                       Graham, Miss. Margaret Edith     NaN   2   19   \n",
       "888           Johnston, Miss. Catherine Helen \"Carrie\"     NaN   2    0   \n",
       "889                              Behr, Mr. Karl Howell     NaN   1   26   \n",
       "890                                Dooley, Mr. Patrick     NaN   1   32   \n",
       "\n",
       "     SibSp  Parch            Ticket     Fare Cabin Embarked  \n",
       "0        1      0         A/5 21171   7.2500     0        S  \n",
       "1        1      0          PC 17599  71.2833   C85        C  \n",
       "2        0      0  STON/O2. 3101282   7.9250     0        S  \n",
       "3        1      0            113803  53.1000  C123        S  \n",
       "4        0      0            373450   8.0500     0        S  \n",
       "..     ...    ...               ...      ...   ...      ...  \n",
       "886      0      0            211536  13.0000     0        S  \n",
       "887      0      0            112053  30.0000   B42        S  \n",
       "888      1      2        W./C. 6607  23.4500     0        S  \n",
       "889      0      0            111369  30.0000  C148        C  \n",
       "890      0      0            370376   7.7500     0        Q  \n",
       "\n",
       "[891 rows x 13 columns]"
      ],
      "text/html": "<div>\n<style scoped>\n    .dataframe tbody tr th:only-of-type {\n        vertical-align: middle;\n    }\n\n    .dataframe tbody tr th {\n        vertical-align: top;\n    }\n\n    .dataframe thead th {\n        text-align: right;\n    }\n</style>\n<table border=\"1\" class=\"dataframe\">\n  <thead>\n    <tr style=\"text-align: right;\">\n      <th></th>\n      <th>PassengerId</th>\n      <th>Survived</th>\n      <th>Pclass</th>\n      <th>Name</th>\n      <th>classe</th>\n      <th>Sex</th>\n      <th>Age</th>\n      <th>SibSp</th>\n      <th>Parch</th>\n      <th>Ticket</th>\n      <th>Fare</th>\n      <th>Cabin</th>\n      <th>Embarked</th>\n    </tr>\n  </thead>\n  <tbody>\n    <tr>\n      <th>0</th>\n      <td>1</td>\n      <td>0</td>\n      <td>3</td>\n      <td>Braund, Mr. Owen Harris</td>\n      <td>NaN</td>\n      <td>1</td>\n      <td>22</td>\n      <td>1</td>\n      <td>0</td>\n      <td>A/5 21171</td>\n      <td>7.2500</td>\n      <td>0</td>\n      <td>S</td>\n    </tr>\n    <tr>\n      <th>1</th>\n      <td>2</td>\n      <td>1</td>\n      <td>1</td>\n      <td>Cumings, Mrs. John Bradley (Florence Briggs Th...</td>\n      <td>NaN</td>\n      <td>2</td>\n      <td>38</td>\n      <td>1</td>\n      <td>0</td>\n      <td>PC 17599</td>\n      <td>71.2833</td>\n      <td>C85</td>\n      <td>C</td>\n    </tr>\n    <tr>\n      <th>2</th>\n      <td>3</td>\n      <td>1</td>\n      <td>3</td>\n      <td>Heikkinen, Miss. Laina</td>\n      <td>NaN</td>\n      <td>2</td>\n      <td>26</td>\n      <td>0</td>\n      <td>0</td>\n      <td>STON/O2. 3101282</td>\n      <td>7.9250</td>\n      <td>0</td>\n      <td>S</td>\n    </tr>\n    <tr>\n      <th>3</th>\n      <td>4</td>\n      <td>1</td>\n      <td>1</td>\n      <td>Futrelle, Mrs. Jacques Heath (Lily May Peel)</td>\n      <td>NaN</td>\n      <td>2</td>\n      <td>35</td>\n      <td>1</td>\n      <td>0</td>\n      <td>113803</td>\n      <td>53.1000</td>\n      <td>C123</td>\n      <td>S</td>\n    </tr>\n    <tr>\n      <th>4</th>\n      <td>5</td>\n      <td>0</td>\n      <td>3</td>\n      <td>Allen, Mr. William Henry</td>\n      <td>NaN</td>\n      <td>1</td>\n      <td>35</td>\n      <td>0</td>\n      <td>0</td>\n      <td>373450</td>\n      <td>8.0500</td>\n      <td>0</td>\n      <td>S</td>\n    </tr>\n    <tr>\n      <th>...</th>\n      <td>...</td>\n      <td>...</td>\n      <td>...</td>\n      <td>...</td>\n      <td>...</td>\n      <td>...</td>\n      <td>...</td>\n      <td>...</td>\n      <td>...</td>\n      <td>...</td>\n      <td>...</td>\n      <td>...</td>\n      <td>...</td>\n    </tr>\n    <tr>\n      <th>886</th>\n      <td>887</td>\n      <td>0</td>\n      <td>2</td>\n      <td>Montvila, Rev. Juozas</td>\n      <td>NaN</td>\n      <td>1</td>\n      <td>27</td>\n      <td>0</td>\n      <td>0</td>\n      <td>211536</td>\n      <td>13.0000</td>\n      <td>0</td>\n      <td>S</td>\n    </tr>\n    <tr>\n      <th>887</th>\n      <td>888</td>\n      <td>1</td>\n      <td>1</td>\n      <td>Graham, Miss. Margaret Edith</td>\n      <td>NaN</td>\n      <td>2</td>\n      <td>19</td>\n      <td>0</td>\n      <td>0</td>\n      <td>112053</td>\n      <td>30.0000</td>\n      <td>B42</td>\n      <td>S</td>\n    </tr>\n    <tr>\n      <th>888</th>\n      <td>889</td>\n      <td>0</td>\n      <td>3</td>\n      <td>Johnston, Miss. Catherine Helen \"Carrie\"</td>\n      <td>NaN</td>\n      <td>2</td>\n      <td>0</td>\n      <td>1</td>\n      <td>2</td>\n      <td>W./C. 6607</td>\n      <td>23.4500</td>\n      <td>0</td>\n      <td>S</td>\n    </tr>\n    <tr>\n      <th>889</th>\n      <td>890</td>\n      <td>1</td>\n      <td>1</td>\n      <td>Behr, Mr. Karl Howell</td>\n      <td>NaN</td>\n      <td>1</td>\n      <td>26</td>\n      <td>0</td>\n      <td>0</td>\n      <td>111369</td>\n      <td>30.0000</td>\n      <td>C148</td>\n      <td>C</td>\n    </tr>\n    <tr>\n      <th>890</th>\n      <td>891</td>\n      <td>0</td>\n      <td>3</td>\n      <td>Dooley, Mr. Patrick</td>\n      <td>NaN</td>\n      <td>1</td>\n      <td>32</td>\n      <td>0</td>\n      <td>0</td>\n      <td>370376</td>\n      <td>7.7500</td>\n      <td>0</td>\n      <td>Q</td>\n    </tr>\n  </tbody>\n</table>\n<p>891 rows × 13 columns</p>\n</div>"
     },
     "metadata": {},
     "execution_count": 346
    }
   ],
   "source": [
    "import csv\n",
    "import re\n",
    "\n",
    "file_train_csv = '../database/train.csv'\n",
    "file_test_csv = '../database/test.csv'\n",
    "\n",
    "db_titanic_train['Age'] = db_titanic_train['Age'].astype(int)\n",
    "db_titanic_test['Age'] = db_titanic_test['Age'].astype(int)\n",
    "\n",
    "\n",
    "re_miss = '(Miss)'\n",
    "re_mrs = '(Mrs)'\n",
    "re_mr = '(Mr)'\n",
    "\n",
    "\"\"\"\n",
    "legend\n",
    "colunm classe\n",
    "Miss = 1 | Mrs = 2 | Mr = 3\n",
    "\n",
    "colunm Sex\n",
    "male = 1 | female = 2\n",
    "\"\"\"\n",
    "\n",
    "lista_train = []\n",
    "lista_test = []\n",
    "\n",
    "with open(file_train_csv, 'r') as f:\n",
    "    csv_reader = csv.DictReader(f)\n",
    "    for line in csv_reader:\n",
    "        \n",
    "        if re.search(re_miss,line['Name']):\n",
    "            lista_test.append(1)\n",
    "            \n",
    "        elif re.search(re_mrs,line['Name']):\n",
    "            lista_test.append(2)\n",
    "        \n",
    "        elif re.search(re_mr,line['Name']):\n",
    "            lista_test.append(3)\n",
    "\n",
    "db_titanic_train.insert(4,'classe', pd.Series(lista_train))\n",
    "\n",
    "db_titanic_train.Sex[db_titanic_train.Sex == 'male'] = 1\n",
    "db_titanic_train.Sex[db_titanic_train.Sex == 'female'] = 2\n",
    "\n",
    "classification_train  = db_titanic_train['classe'].isnull().sum()\n",
    "print('Base Train => we have {} rating people who are not classified as Mrs, Miss and Mr'.format(classification_train))\n",
    "\n",
    "db_titanic_train\n",
    "\n"
   ]
  },
  {
   "cell_type": "code",
   "execution_count": 347,
   "metadata": {},
   "outputs": [
    {
     "output_type": "stream",
     "name": "stdout",
     "text": [
      "Base Test => we have 0 rating people who are not classified as Mrs, Miss and Mr\n",
      "<ipython-input-347-dedd09738a1b>:19: SettingWithCopyWarning: \n",
      "A value is trying to be set on a copy of a slice from a DataFrame\n",
      "\n",
      "See the caveats in the documentation: http://pandas.pydata.org/pandas-docs/stable/user_guide/indexing.html#returning-a-view-versus-a-copy\n",
      "  db_titanic_test.Sex[db_titanic_test.Sex == 'male'] = 1\n",
      "<ipython-input-347-dedd09738a1b>:20: SettingWithCopyWarning: \n",
      "A value is trying to be set on a copy of a slice from a DataFrame\n",
      "\n",
      "See the caveats in the documentation: http://pandas.pydata.org/pandas-docs/stable/user_guide/indexing.html#returning-a-view-versus-a-copy\n",
      "  db_titanic_test.Sex[db_titanic_test.Sex == 'female'] = 2\n"
     ]
    },
    {
     "output_type": "execute_result",
     "data": {
      "text/plain": [
       "     PassengerId  Pclass                                          Name Sex  \\\n",
       "0            892       3                              Kelly, Mr. James   1   \n",
       "1            893       3              Wilkes, Mrs. James (Ellen Needs)   2   \n",
       "2            894       2                     Myles, Mr. Thomas Francis   1   \n",
       "3            895       3                              Wirz, Mr. Albert   1   \n",
       "4            896       3  Hirvonen, Mrs. Alexander (Helga E Lindqvist)   2   \n",
       "..           ...     ...                                           ...  ..   \n",
       "413         1305       3                            Spector, Mr. Woolf   1   \n",
       "414         1306       1                  Oliva y Ocana, Dona. Fermina   2   \n",
       "415         1307       3                  Saether, Mr. Simon Sivertsen   1   \n",
       "416         1308       3                           Ware, Mr. Frederick   1   \n",
       "417         1309       3                      Peter, Master. Michael J   1   \n",
       "\n",
       "     classe  Age  SibSp  Parch              Ticket      Fare Cabin Embarked  \n",
       "0         3   34      0      0              330911    7.8292     0        Q  \n",
       "1         2   47      1      0              363272    7.0000     0        S  \n",
       "2         1   62      0      0              240276    9.6875     0        Q  \n",
       "3         2   27      0      0              315154    8.6625     0        S  \n",
       "4         3   22      1      1             3101298   12.2875     0        S  \n",
       "..      ...  ...    ...    ...                 ...       ...   ...      ...  \n",
       "413       1    0      0      0           A.5. 3236    8.0500     0        S  \n",
       "414       3   39      0      0            PC 17758  108.9000  C105        C  \n",
       "415       1   38      0      0  SOTON/O.Q. 3101262    7.2500     0        S  \n",
       "416       3    0      0      0              359309    8.0500     0        S  \n",
       "417       3    0      1      1                2668   22.3583     0        C  \n",
       "\n",
       "[418 rows x 12 columns]"
      ],
      "text/html": "<div>\n<style scoped>\n    .dataframe tbody tr th:only-of-type {\n        vertical-align: middle;\n    }\n\n    .dataframe tbody tr th {\n        vertical-align: top;\n    }\n\n    .dataframe thead th {\n        text-align: right;\n    }\n</style>\n<table border=\"1\" class=\"dataframe\">\n  <thead>\n    <tr style=\"text-align: right;\">\n      <th></th>\n      <th>PassengerId</th>\n      <th>Pclass</th>\n      <th>Name</th>\n      <th>Sex</th>\n      <th>classe</th>\n      <th>Age</th>\n      <th>SibSp</th>\n      <th>Parch</th>\n      <th>Ticket</th>\n      <th>Fare</th>\n      <th>Cabin</th>\n      <th>Embarked</th>\n    </tr>\n  </thead>\n  <tbody>\n    <tr>\n      <th>0</th>\n      <td>892</td>\n      <td>3</td>\n      <td>Kelly, Mr. James</td>\n      <td>1</td>\n      <td>3</td>\n      <td>34</td>\n      <td>0</td>\n      <td>0</td>\n      <td>330911</td>\n      <td>7.8292</td>\n      <td>0</td>\n      <td>Q</td>\n    </tr>\n    <tr>\n      <th>1</th>\n      <td>893</td>\n      <td>3</td>\n      <td>Wilkes, Mrs. James (Ellen Needs)</td>\n      <td>2</td>\n      <td>2</td>\n      <td>47</td>\n      <td>1</td>\n      <td>0</td>\n      <td>363272</td>\n      <td>7.0000</td>\n      <td>0</td>\n      <td>S</td>\n    </tr>\n    <tr>\n      <th>2</th>\n      <td>894</td>\n      <td>2</td>\n      <td>Myles, Mr. Thomas Francis</td>\n      <td>1</td>\n      <td>1</td>\n      <td>62</td>\n      <td>0</td>\n      <td>0</td>\n      <td>240276</td>\n      <td>9.6875</td>\n      <td>0</td>\n      <td>Q</td>\n    </tr>\n    <tr>\n      <th>3</th>\n      <td>895</td>\n      <td>3</td>\n      <td>Wirz, Mr. Albert</td>\n      <td>1</td>\n      <td>2</td>\n      <td>27</td>\n      <td>0</td>\n      <td>0</td>\n      <td>315154</td>\n      <td>8.6625</td>\n      <td>0</td>\n      <td>S</td>\n    </tr>\n    <tr>\n      <th>4</th>\n      <td>896</td>\n      <td>3</td>\n      <td>Hirvonen, Mrs. Alexander (Helga E Lindqvist)</td>\n      <td>2</td>\n      <td>3</td>\n      <td>22</td>\n      <td>1</td>\n      <td>1</td>\n      <td>3101298</td>\n      <td>12.2875</td>\n      <td>0</td>\n      <td>S</td>\n    </tr>\n    <tr>\n      <th>...</th>\n      <td>...</td>\n      <td>...</td>\n      <td>...</td>\n      <td>...</td>\n      <td>...</td>\n      <td>...</td>\n      <td>...</td>\n      <td>...</td>\n      <td>...</td>\n      <td>...</td>\n      <td>...</td>\n      <td>...</td>\n    </tr>\n    <tr>\n      <th>413</th>\n      <td>1305</td>\n      <td>3</td>\n      <td>Spector, Mr. Woolf</td>\n      <td>1</td>\n      <td>1</td>\n      <td>0</td>\n      <td>0</td>\n      <td>0</td>\n      <td>A.5. 3236</td>\n      <td>8.0500</td>\n      <td>0</td>\n      <td>S</td>\n    </tr>\n    <tr>\n      <th>414</th>\n      <td>1306</td>\n      <td>1</td>\n      <td>Oliva y Ocana, Dona. Fermina</td>\n      <td>2</td>\n      <td>3</td>\n      <td>39</td>\n      <td>0</td>\n      <td>0</td>\n      <td>PC 17758</td>\n      <td>108.9000</td>\n      <td>C105</td>\n      <td>C</td>\n    </tr>\n    <tr>\n      <th>415</th>\n      <td>1307</td>\n      <td>3</td>\n      <td>Saether, Mr. Simon Sivertsen</td>\n      <td>1</td>\n      <td>1</td>\n      <td>38</td>\n      <td>0</td>\n      <td>0</td>\n      <td>SOTON/O.Q. 3101262</td>\n      <td>7.2500</td>\n      <td>0</td>\n      <td>S</td>\n    </tr>\n    <tr>\n      <th>416</th>\n      <td>1308</td>\n      <td>3</td>\n      <td>Ware, Mr. Frederick</td>\n      <td>1</td>\n      <td>3</td>\n      <td>0</td>\n      <td>0</td>\n      <td>0</td>\n      <td>359309</td>\n      <td>8.0500</td>\n      <td>0</td>\n      <td>S</td>\n    </tr>\n    <tr>\n      <th>417</th>\n      <td>1309</td>\n      <td>3</td>\n      <td>Peter, Master. Michael J</td>\n      <td>1</td>\n      <td>3</td>\n      <td>0</td>\n      <td>1</td>\n      <td>1</td>\n      <td>2668</td>\n      <td>22.3583</td>\n      <td>0</td>\n      <td>C</td>\n    </tr>\n  </tbody>\n</table>\n<p>418 rows × 12 columns</p>\n</div>"
     },
     "metadata": {},
     "execution_count": 347
    }
   ],
   "source": [
    "\n",
    "with open(file_test_csv, 'r') as f:\n",
    "    csv_reader = csv.DictReader(f)\n",
    "    for line in csv_reader:\n",
    "        \n",
    "        if re.search(re_miss,line['Name']):\n",
    "            lista_test.append(1)\n",
    "            \n",
    "        elif re.search(re_mrs,line['Name']):\n",
    "            lista_test.append(2)\n",
    "        \n",
    "        elif re.search(re_mr,line['Name']):\n",
    "            lista_test.append(3)\n",
    "\n",
    "db_titanic_test.insert(4,'classe', pd.Series(lista_test))\n",
    "\n",
    "classification_test  = db_titanic_test['classe'].isnull().sum()\n",
    "print('Base Test => we have {} rating people who are not classified as Mrs, Miss and Mr'.format(classification_test))\n",
    "\n",
    "db_titanic_test.Sex[db_titanic_test.Sex == 'male'] = 1\n",
    "db_titanic_test.Sex[db_titanic_test.Sex == 'female'] = 2\n",
    "\n",
    "db_titanic_test"
   ]
  },
  {
   "cell_type": "code",
   "execution_count": 8,
   "metadata": {},
   "outputs": [
    {
     "output_type": "error",
     "ename": "KeyError",
     "evalue": "\"['classe'] not in index\"",
     "traceback": [
      "\u001b[0;31m---------------------------------------------------------------------------\u001b[0m",
      "\u001b[0;31mKeyError\u001b[0m                                  Traceback (most recent call last)",
      "\u001b[0;32m<ipython-input-8-f98893cc6d57>\u001b[0m in \u001b[0;36m<module>\u001b[0;34m\u001b[0m\n\u001b[1;32m      3\u001b[0m \u001b[0;32mimport\u001b[0m \u001b[0mseaborn\u001b[0m \u001b[0;32mas\u001b[0m \u001b[0msnss\u001b[0m\u001b[0;34m\u001b[0m\u001b[0;34m\u001b[0m\u001b[0m\n\u001b[1;32m      4\u001b[0m \u001b[0;34m\u001b[0m\u001b[0m\n\u001b[0;32m----> 5\u001b[0;31m \u001b[0mx_train\u001b[0m \u001b[0;34m=\u001b[0m \u001b[0mdb_titanic_train\u001b[0m\u001b[0;34m[\u001b[0m\u001b[0;34m[\u001b[0m\u001b[0;34m'classe'\u001b[0m\u001b[0;34m,\u001b[0m\u001b[0;34m'Sex'\u001b[0m\u001b[0;34m,\u001b[0m\u001b[0;34m'Age'\u001b[0m\u001b[0;34m]\u001b[0m\u001b[0;34m]\u001b[0m\u001b[0;34m\u001b[0m\u001b[0;34m\u001b[0m\u001b[0m\n\u001b[0m\u001b[1;32m      6\u001b[0m \u001b[0;34m\u001b[0m\u001b[0m\n\u001b[1;32m      7\u001b[0m \u001b[0mdb_titanic_train\u001b[0m\u001b[0;34m\u001b[0m\u001b[0;34m\u001b[0m\u001b[0m\n",
      "\u001b[0;32m/usr/lib/python3/dist-packages/pandas/core/frame.py\u001b[0m in \u001b[0;36m__getitem__\u001b[0;34m(self, key)\u001b[0m\n\u001b[1;32m   2999\u001b[0m             \u001b[0;32mif\u001b[0m \u001b[0mis_iterator\u001b[0m\u001b[0;34m(\u001b[0m\u001b[0mkey\u001b[0m\u001b[0;34m)\u001b[0m\u001b[0;34m:\u001b[0m\u001b[0;34m\u001b[0m\u001b[0;34m\u001b[0m\u001b[0m\n\u001b[1;32m   3000\u001b[0m                 \u001b[0mkey\u001b[0m \u001b[0;34m=\u001b[0m \u001b[0mlist\u001b[0m\u001b[0;34m(\u001b[0m\u001b[0mkey\u001b[0m\u001b[0;34m)\u001b[0m\u001b[0;34m\u001b[0m\u001b[0;34m\u001b[0m\u001b[0m\n\u001b[0;32m-> 3001\u001b[0;31m             \u001b[0mindexer\u001b[0m \u001b[0;34m=\u001b[0m \u001b[0mself\u001b[0m\u001b[0;34m.\u001b[0m\u001b[0mloc\u001b[0m\u001b[0;34m.\u001b[0m\u001b[0m_convert_to_indexer\u001b[0m\u001b[0;34m(\u001b[0m\u001b[0mkey\u001b[0m\u001b[0;34m,\u001b[0m \u001b[0maxis\u001b[0m\u001b[0;34m=\u001b[0m\u001b[0;36m1\u001b[0m\u001b[0;34m,\u001b[0m \u001b[0mraise_missing\u001b[0m\u001b[0;34m=\u001b[0m\u001b[0;32mTrue\u001b[0m\u001b[0;34m)\u001b[0m\u001b[0;34m\u001b[0m\u001b[0;34m\u001b[0m\u001b[0m\n\u001b[0m\u001b[1;32m   3002\u001b[0m \u001b[0;34m\u001b[0m\u001b[0m\n\u001b[1;32m   3003\u001b[0m         \u001b[0;31m# take() does not accept boolean indexers\u001b[0m\u001b[0;34m\u001b[0m\u001b[0;34m\u001b[0m\u001b[0;34m\u001b[0m\u001b[0m\n",
      "\u001b[0;32m/usr/lib/python3/dist-packages/pandas/core/indexing.py\u001b[0m in \u001b[0;36m_convert_to_indexer\u001b[0;34m(self, obj, axis, is_setter, raise_missing)\u001b[0m\n\u001b[1;32m   1283\u001b[0m                 \u001b[0;31m# When setting, missing keys are not allowed, even with .loc:\u001b[0m\u001b[0;34m\u001b[0m\u001b[0;34m\u001b[0m\u001b[0;34m\u001b[0m\u001b[0m\n\u001b[1;32m   1284\u001b[0m                 \u001b[0mkwargs\u001b[0m \u001b[0;34m=\u001b[0m \u001b[0;34m{\u001b[0m\u001b[0;34m\"raise_missing\"\u001b[0m\u001b[0;34m:\u001b[0m \u001b[0;32mTrue\u001b[0m \u001b[0;32mif\u001b[0m \u001b[0mis_setter\u001b[0m \u001b[0;32melse\u001b[0m \u001b[0mraise_missing\u001b[0m\u001b[0;34m}\u001b[0m\u001b[0;34m\u001b[0m\u001b[0;34m\u001b[0m\u001b[0m\n\u001b[0;32m-> 1285\u001b[0;31m                 \u001b[0;32mreturn\u001b[0m \u001b[0mself\u001b[0m\u001b[0;34m.\u001b[0m\u001b[0m_get_listlike_indexer\u001b[0m\u001b[0;34m(\u001b[0m\u001b[0mobj\u001b[0m\u001b[0;34m,\u001b[0m \u001b[0maxis\u001b[0m\u001b[0;34m,\u001b[0m \u001b[0;34m**\u001b[0m\u001b[0mkwargs\u001b[0m\u001b[0;34m)\u001b[0m\u001b[0;34m[\u001b[0m\u001b[0;36m1\u001b[0m\u001b[0;34m]\u001b[0m\u001b[0;34m\u001b[0m\u001b[0;34m\u001b[0m\u001b[0m\n\u001b[0m\u001b[1;32m   1286\u001b[0m         \u001b[0;32melse\u001b[0m\u001b[0;34m:\u001b[0m\u001b[0;34m\u001b[0m\u001b[0;34m\u001b[0m\u001b[0m\n\u001b[1;32m   1287\u001b[0m             \u001b[0;32mtry\u001b[0m\u001b[0;34m:\u001b[0m\u001b[0;34m\u001b[0m\u001b[0;34m\u001b[0m\u001b[0m\n",
      "\u001b[0;32m/usr/lib/python3/dist-packages/pandas/core/indexing.py\u001b[0m in \u001b[0;36m_get_listlike_indexer\u001b[0;34m(self, key, axis, raise_missing)\u001b[0m\n\u001b[1;32m   1089\u001b[0m             \u001b[0mkeyarr\u001b[0m\u001b[0;34m,\u001b[0m \u001b[0mindexer\u001b[0m\u001b[0;34m,\u001b[0m \u001b[0mnew_indexer\u001b[0m \u001b[0;34m=\u001b[0m \u001b[0max\u001b[0m\u001b[0;34m.\u001b[0m\u001b[0m_reindex_non_unique\u001b[0m\u001b[0;34m(\u001b[0m\u001b[0mkeyarr\u001b[0m\u001b[0;34m)\u001b[0m\u001b[0;34m\u001b[0m\u001b[0;34m\u001b[0m\u001b[0m\n\u001b[1;32m   1090\u001b[0m \u001b[0;34m\u001b[0m\u001b[0m\n\u001b[0;32m-> 1091\u001b[0;31m         self._validate_read_indexer(\n\u001b[0m\u001b[1;32m   1092\u001b[0m             \u001b[0mkeyarr\u001b[0m\u001b[0;34m,\u001b[0m \u001b[0mindexer\u001b[0m\u001b[0;34m,\u001b[0m \u001b[0mo\u001b[0m\u001b[0;34m.\u001b[0m\u001b[0m_get_axis_number\u001b[0m\u001b[0;34m(\u001b[0m\u001b[0maxis\u001b[0m\u001b[0;34m)\u001b[0m\u001b[0;34m,\u001b[0m \u001b[0mraise_missing\u001b[0m\u001b[0;34m=\u001b[0m\u001b[0mraise_missing\u001b[0m\u001b[0;34m\u001b[0m\u001b[0;34m\u001b[0m\u001b[0m\n\u001b[1;32m   1093\u001b[0m         )\n",
      "\u001b[0;32m/usr/lib/python3/dist-packages/pandas/core/indexing.py\u001b[0m in \u001b[0;36m_validate_read_indexer\u001b[0;34m(self, key, indexer, axis, raise_missing)\u001b[0m\n\u001b[1;32m   1183\u001b[0m             \u001b[0;32mif\u001b[0m \u001b[0;32mnot\u001b[0m \u001b[0;34m(\u001b[0m\u001b[0mself\u001b[0m\u001b[0;34m.\u001b[0m\u001b[0mname\u001b[0m \u001b[0;34m==\u001b[0m \u001b[0;34m\"loc\"\u001b[0m \u001b[0;32mand\u001b[0m \u001b[0;32mnot\u001b[0m \u001b[0mraise_missing\u001b[0m\u001b[0;34m)\u001b[0m\u001b[0;34m:\u001b[0m\u001b[0;34m\u001b[0m\u001b[0;34m\u001b[0m\u001b[0m\n\u001b[1;32m   1184\u001b[0m                 \u001b[0mnot_found\u001b[0m \u001b[0;34m=\u001b[0m \u001b[0mlist\u001b[0m\u001b[0;34m(\u001b[0m\u001b[0mset\u001b[0m\u001b[0;34m(\u001b[0m\u001b[0mkey\u001b[0m\u001b[0;34m)\u001b[0m \u001b[0;34m-\u001b[0m \u001b[0mset\u001b[0m\u001b[0;34m(\u001b[0m\u001b[0max\u001b[0m\u001b[0;34m)\u001b[0m\u001b[0;34m)\u001b[0m\u001b[0;34m\u001b[0m\u001b[0;34m\u001b[0m\u001b[0m\n\u001b[0;32m-> 1185\u001b[0;31m                 \u001b[0;32mraise\u001b[0m \u001b[0mKeyError\u001b[0m\u001b[0;34m(\u001b[0m\u001b[0;34m\"{} not in index\"\u001b[0m\u001b[0;34m.\u001b[0m\u001b[0mformat\u001b[0m\u001b[0;34m(\u001b[0m\u001b[0mnot_found\u001b[0m\u001b[0;34m)\u001b[0m\u001b[0;34m)\u001b[0m\u001b[0;34m\u001b[0m\u001b[0;34m\u001b[0m\u001b[0m\n\u001b[0m\u001b[1;32m   1186\u001b[0m \u001b[0;34m\u001b[0m\u001b[0m\n\u001b[1;32m   1187\u001b[0m             \u001b[0;31m# we skip the warning on Categorical/Interval\u001b[0m\u001b[0;34m\u001b[0m\u001b[0;34m\u001b[0m\u001b[0;34m\u001b[0m\u001b[0m\n",
      "\u001b[0;31mKeyError\u001b[0m: \"['classe'] not in index\""
     ]
    }
   ],
   "source": [
    "from sklearn.cluster import KMeans\n",
    "import matplotlib.pyplot as plt\n",
    "import seaborn as snss\n",
    "\n",
    "x_train = db_titanic_train[['classe','Sex','Age']]\n",
    "\n",
    "db_titanic_train\n",
    "\n",
    "y_test = db_titanic_test[['classe','Sex','Age']]\n",
    "\n",
    "kmeans = KMeans(n_clusters=4, random_state=1)\n",
    "kmeans.fit_predict(x_train)\n",
    "\n",
    "plt.scatter(x = x_train)\n",
    "plt.xlabel('Sex')\n",
    "plt.ylabel('Age')\n",
    "plt.title('Relação entre sexo e idade')\n",
    "plt.show()\n",
    "\n",
    "\n"
   ]
  },
  {
   "cell_type": "code",
   "execution_count": null,
   "metadata": {},
   "outputs": [],
   "source": []
  }
 ]
}